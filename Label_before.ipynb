{
  "cells": [
    {
      "cell_type": "code",
      "source": [
        "from google.colab import drive\n",
        "drive.mount('/content/drive')"
      ],
      "metadata": {
        "colab": {
          "base_uri": "https://localhost:8080/"
        },
        "id": "QBCjspTinksR",
        "outputId": "47780f80-6885-4bf1-b6cd-b5afaf826a57"
      },
      "execution_count": 1,
      "outputs": [
        {
          "output_type": "stream",
          "name": "stdout",
          "text": [
            "Mounted at /content/drive\n"
          ]
        }
      ]
    },
    {
      "cell_type": "code",
      "source": [
        "import glob\n",
        "import librosa\n",
        "import os\n",
        "from torch.utils.data import Dataset\n",
        "from torchvision import datasets\n",
        "import torchaudio\n",
        "from scipy.io import wavfile\n",
        "import numpy as np\n",
        "from scipy.io.wavfile import write\n",
        "import torch\n",
        "import torch.nn as nn\n",
        "import torch.nn.functional as F\n",
        "import pandas as pd\n",
        "base_dir = \"/content/drive/MyDrive/DataArray/\"\n"
      ],
      "metadata": {
        "id": "JmRq78vqn-zD"
      },
      "execution_count": 2,
      "outputs": []
    },
    {
      "cell_type": "code",
      "source": [
        "data = pd.read_csv(\"/content/drive/MyDrive/Viet1.csv\")\n",
        "for i in range(len(data)):\n",
        "  data['Path'][i] = (base_dir + data['Path'][i].split(\"/\")[5].split(\".\")[0] + \".npy\")"
      ],
      "metadata": {
        "colab": {
          "base_uri": "https://localhost:8080/"
        },
        "id": "MPN0UeZ5qEiJ",
        "outputId": "16bda36f-e0fb-4105-9271-fc0a7f447322"
      },
      "execution_count": 8,
      "outputs": [
        {
          "output_type": "stream",
          "name": "stderr",
          "text": [
            "/usr/local/lib/python3.7/dist-packages/ipykernel_launcher.py:3: SettingWithCopyWarning: \n",
            "A value is trying to be set on a copy of a slice from a DataFrame\n",
            "\n",
            "See the caveats in the documentation: https://pandas.pydata.org/pandas-docs/stable/user_guide/indexing.html#returning-a-view-versus-a-copy\n",
            "  This is separate from the ipykernel package so we can avoid doing imports until\n"
          ]
        }
      ]
    },
    {
      "cell_type": "code",
      "source": [
        "from sklearn.model_selection import train_test_split\n",
        "data_Train, data_Test = train_test_split(data, test_size=0.33, random_state=42)\n",
        "print(data_Train)"
      ],
      "metadata": {
        "colab": {
          "base_uri": "https://localhost:8080/"
        },
        "id": "vJevasrdqF1f",
        "outputId": "29319aa8-2a0c-4a25-8ffc-7755def29740"
      },
      "execution_count": 9,
      "outputs": [
        {
          "output_type": "stream",
          "name": "stdout",
          "text": [
            "      Unnamed: 0  Unnamed: 0.1    MinCos  \\\n",
            "710          710           710  0.351342   \n",
            "167          167           167  0.081919   \n",
            "1009        1009          1009  0.268499   \n",
            "286          286           286  0.311154   \n",
            "1711        1711          1711  0.167786   \n",
            "...          ...           ...       ...   \n",
            "1638        1638          1638  0.047461   \n",
            "1095        1095          1095  0.239941   \n",
            "1130        1130          1130 -0.052040   \n",
            "1294        1294          1294  0.173743   \n",
            "860          860           860  0.003244   \n",
            "\n",
            "                                           Path  Label  \n",
            "710   /content/drive/MyDrive/DataArray/3387.npy      1  \n",
            "167   /content/drive/MyDrive/DataArray/1592.npy      0  \n",
            "1009   /content/drive/MyDrive/DataArray/116.npy      1  \n",
            "286   /content/drive/MyDrive/DataArray/1738.npy      0  \n",
            "1711  /content/drive/MyDrive/DataArray/1060.npy      1  \n",
            "...                                         ...    ...  \n",
            "1638   /content/drive/MyDrive/DataArray/965.npy      0  \n",
            "1095   /content/drive/MyDrive/DataArray/232.npy      0  \n",
            "1130   /content/drive/MyDrive/DataArray/280.npy      0  \n",
            "1294   /content/drive/MyDrive/DataArray/496.npy      0  \n",
            "860   /content/drive/MyDrive/DataArray/3598.npy      0  \n",
            "\n",
            "[1399 rows x 5 columns]\n"
          ]
        }
      ]
    },
    {
      "cell_type": "code",
      "source": [
        "X_train = data_Train['Path']\n",
        "y_train = data_Train['Label']\n",
        "X_test = data_Test['Path']\n",
        "y_test = data_Test['Label']\n",
        "X_train = X_train.tolist()\n",
        "y_train = y_train.tolist()\n",
        "X_test = X_test.tolist() \n",
        "y_test = y_test.tolist()"
      ],
      "metadata": {
        "id": "D3hzMv5GqQeH"
      },
      "execution_count": 10,
      "outputs": []
    },
    {
      "cell_type": "code",
      "source": [
        "print(X_train[0])"
      ],
      "metadata": {
        "colab": {
          "base_uri": "https://localhost:8080/"
        },
        "id": "GAP6-iBquCnb",
        "outputId": "da570663-1293-47b3-e6a0-94d0b32ff7f3"
      },
      "execution_count": 12,
      "outputs": [
        {
          "output_type": "stream",
          "name": "stdout",
          "text": [
            "/content/drive/MyDrive/DataArray/3387.npy\n"
          ]
        }
      ]
    },
    {
      "cell_type": "code",
      "source": [
        "for i in range(1399):\n",
        "  X_train[i] = np.load(str(X_train[i]))\n",
        "for i in range(2089 - 1399):\n",
        "  X_test[i] = np.load(str(X_test[i])) "
      ],
      "metadata": {
        "id": "AouaQWptqbVJ"
      },
      "execution_count": 13,
      "outputs": []
    },
    {
      "cell_type": "code",
      "source": [
        "\n",
        "class Train_Dataset(Dataset):\n",
        "\n",
        "    def __init__(self):\n",
        "        # Initialize data, download, etc.\n",
        "        # read with numpy or pandas\n",
        "        xy = X_train\n",
        "        self.n_samples = 1399\n",
        "        A = X_train\n",
        "        B = y_train\n",
        "        # here the first column is the class label, the rest are the features\n",
        "        self.x_data = torch.tensor(A) # size [n_samples, n_features]\n",
        "        self.y_data = torch.tensor(B) # size [n_samples, 1]\n",
        "\n",
        "    # support indexing such that dataset[i] can be used to get i-th sample\n",
        "    def __getitem__(self, index):\n",
        "        return self.x_data[index], self.y_data[index]\n",
        "\n",
        "    # we can call len(dataset) to return the size\n",
        "    def __len__(self):\n",
        "        return self.n_samples\n",
        "\n",
        "\n",
        "\n",
        "class Test_Dataset(Dataset):\n",
        "\n",
        "    def __init__(self):\n",
        "        # Initialize data, download, etc.\n",
        "        # read with numpy or pandas\n",
        "        xy = X_test\n",
        "        self.n_samples = 2089-1399\n",
        "        A = X_test\n",
        "        B = y_test\n",
        "        # here the first column is the class label, the rest are the features\n",
        "        self.x_data = torch.tensor(A) # size [n_samples, n_features]\n",
        "        self.y_data = torch.tensor(B) # size [n_samples, 1]\n",
        "\n",
        "    # support indexing such that dataset[i] can be used to get i-th sample\n",
        "    def __getitem__(self, index):\n",
        "        return self.x_data[index], self.y_data[index]\n",
        "\n",
        "    # we can call len(dataset) to return the size\n",
        "    def __len__(self):\n",
        "        return self.n_samples"
      ],
      "metadata": {
        "id": "_sdDJmAJqjjF"
      },
      "execution_count": 14,
      "outputs": []
    },
    {
      "cell_type": "code",
      "source": [
        "Training_Data = Train_Dataset()\n",
        "\n",
        "# get first sample and unpack\n",
        "first_data = Training_Data[0]\n",
        "features, labels = first_data\n",
        "print(features, labels)\n",
        "Testing_Data = Test_Dataset()\n",
        "first_data = Testing_Data[0]\n",
        "features, labels = first_data\n",
        "print(features, labels)"
      ],
      "metadata": {
        "colab": {
          "base_uri": "https://localhost:8080/"
        },
        "id": "hl68vRy-vymR",
        "outputId": "59a8af56-966d-4b9f-a0d8-c8b5970c427d"
      },
      "execution_count": 15,
      "outputs": [
        {
          "output_type": "stream",
          "name": "stdout",
          "text": [
            "tensor([ 27.6138,  20.1814, -16.6200, -33.8050,  47.2734, -24.1429, -14.0186,\n",
            "         -9.8726,  -0.9023,  11.9569, -11.4139,  26.6349, -17.5362,  -2.0389,\n",
            "         -4.7936, -28.9854,  21.3499,  44.7589,  31.0030,  46.6975,  11.6168,\n",
            "         21.3573,  34.8090,  -5.2635,   2.2842, -14.0599,  17.5967,   1.6669,\n",
            "         -2.8082,  46.0592, -10.4999, -22.6125,   6.7148,  31.1869,   2.3270,\n",
            "         21.0034,  -4.4198, -18.0742,   5.9836,  -2.4145, -25.2776,  17.4939,\n",
            "         22.1291,  -2.8234, -19.6992, -14.6097,  18.8721,  -5.2160,  13.0147,\n",
            "         19.2362,   3.5250,  10.7447, -15.6887,   2.5021, -18.2138, -22.5547,\n",
            "         11.1968, -41.5183,  26.6056,  -4.5710,  18.3137,  36.5339,  22.2308,\n",
            "         20.5667,  13.7780,  15.5876, -50.6113, -33.9438,  11.8355, -23.0709,\n",
            "        -31.4931,   2.3904,  14.0556,  -1.5613, -12.6702,   8.4356,  21.7077,\n",
            "        -24.3436,  -6.8926,   0.6452,  19.0446, -25.4615,   3.5348,  13.1019,\n",
            "         26.4721,   0.5597, -43.7808, -31.2205,   6.9008,   8.4954, -21.8904,\n",
            "         -6.6514,  24.1461,   3.4791,  14.4770,  21.5577,   2.6580,   1.6177,\n",
            "          4.0899, -30.3119,   7.5781,   1.4024,   1.4809, -16.0451, -27.5976,\n",
            "        -24.1866,  17.4392,  18.8744,   1.3141,  14.7617,   1.7858,  17.0790,\n",
            "        -21.4241,  -6.5187, -18.3215,  12.0306,  -7.4305, -38.5185,  68.9683,\n",
            "         -4.1149, -10.0737,  46.5718,  45.9851,  15.4015, -34.9757,  -4.7278,\n",
            "        -28.0610,  14.3756, -47.3978, -16.8179, -38.5132, -22.8866,   1.3200,\n",
            "         -5.6361,  10.2683,  20.1958,  -9.6030,   3.0487,  22.7942, -19.5210,\n",
            "        -11.8403,  26.0570,   6.8773, -50.5892,  43.4138,   6.2564,   4.4857,\n",
            "         21.6327,   3.6395, -27.2496,   6.5858,  -5.4842,   9.9424,  50.4673,\n",
            "         34.4659,  -2.8382,  33.4466, -56.3384,  14.9454, -19.0643,  20.3769,\n",
            "        -11.0116, -16.3353,  -5.5137,   5.6290, -12.6621, -19.3390, -10.5493,\n",
            "        -29.6489,   1.6900,   3.9212,  31.0786, -24.4406, -16.7511, -20.6424,\n",
            "         11.6420,  23.5923,   1.9913,   2.3039,  -7.1195,  15.6141,   5.6185,\n",
            "        -22.5751, -14.8421, -38.6030,  -2.5736,  -2.5768,  -9.4983,  20.0740,\n",
            "         -5.7547,  22.7670,   5.6663]) tensor(1)\n",
            "tensor([ 2.9260e+01,  3.4089e+01, -3.0327e+01,  5.2059e+00,  2.6813e+01,\n",
            "         1.1743e+01, -4.9159e+01,  1.0383e+01, -2.0204e+01,  3.2385e+00,\n",
            "        -3.3881e+01, -3.8725e+01, -8.9829e+00, -3.0304e+00, -1.2128e+01,\n",
            "         2.3942e+01, -2.0105e+01, -2.4900e+01, -6.1329e+00, -2.3544e+01,\n",
            "        -3.3496e+00,  3.6071e+01, -8.6742e+00,  3.4428e+01, -4.3024e+00,\n",
            "         5.4284e+00,  3.4084e+01,  2.6560e+01, -2.7864e+01, -6.2960e+00,\n",
            "         1.3423e+01,  3.3539e+01, -6.9924e+00, -1.9308e+00,  1.3384e+01,\n",
            "         1.9684e+01,  6.9911e+00, -1.5319e+01, -2.2223e+01, -9.5219e+00,\n",
            "        -2.4991e+01, -3.4464e+00,  4.9064e+00,  3.2748e+01, -1.5476e+01,\n",
            "         1.5062e+01,  1.9679e+01, -3.1693e+01, -2.6916e+01,  1.3322e+01,\n",
            "         1.9167e+00,  2.2761e+01, -8.0362e+00,  1.4670e+01,  1.5924e-01,\n",
            "         3.2040e-01, -2.6938e+01,  4.8852e+00, -2.8526e+01, -1.0169e+01,\n",
            "         2.2320e+01, -4.2672e+00,  1.5633e+01, -2.4869e+01,  5.0636e+00,\n",
            "        -5.7372e+00, -2.2644e+00, -6.2341e+00, -2.4705e+01,  7.1496e+00,\n",
            "        -1.5393e+01,  8.4298e+00,  1.2825e+01, -6.8267e-01,  1.6643e+01,\n",
            "         1.3810e+01,  1.1369e+01,  1.5411e+01, -5.0232e+00, -2.2260e+01,\n",
            "         2.0975e+01,  1.2331e+01, -1.2250e+01,  8.5203e-01, -2.3044e+01,\n",
            "         7.8282e+00, -2.8202e+01, -1.8764e+01, -4.3009e+00,  4.3951e+01,\n",
            "        -1.6386e+01, -5.3119e-01,  4.5945e-01, -2.1629e+01,  1.0963e+01,\n",
            "         4.0118e+00,  2.0919e+01,  1.7552e+01,  1.4323e+01, -2.8511e+01,\n",
            "        -3.8878e+00,  3.3307e+01,  1.3060e+01,  2.8308e+01, -1.3750e+01,\n",
            "         1.3060e+01, -4.1229e+00, -2.9937e+00, -2.6706e+01,  3.6253e+00,\n",
            "        -2.8264e+01, -2.7165e+01,  2.7772e+01, -2.3956e+01, -3.9873e+00,\n",
            "         3.1583e+01, -8.3664e+00, -5.9768e+01,  3.6947e+01, -1.5897e+01,\n",
            "         9.9801e+00,  5.6207e+00,  8.2251e+00, -9.4233e+00, -4.4450e+00,\n",
            "        -2.3600e+01, -9.8005e+00,  2.2895e+01, -4.8609e+01, -1.3871e+01,\n",
            "         3.3651e+01, -1.3006e+01,  1.2346e+01, -3.6446e+00, -6.8862e+00,\n",
            "        -2.5347e+01,  3.2340e+01,  2.0730e+01,  1.3055e+01, -1.5517e+01,\n",
            "        -3.1871e+01,  1.9308e+01, -4.6736e+00,  1.8049e+01,  4.5860e+01,\n",
            "         2.9219e-01,  5.8569e-02,  7.7889e+00, -2.1508e+01,  3.6028e+01,\n",
            "         2.3270e+01, -4.4111e+00,  2.1570e+01,  1.0347e+01, -1.9721e+01,\n",
            "        -9.4532e+00, -3.2812e+01, -1.6147e+01,  1.5469e+01, -2.5289e+01,\n",
            "         2.5968e+01,  5.4250e+00,  1.1737e+01, -1.8483e+01,  1.1853e+01,\n",
            "        -4.4282e+01, -1.2428e+01, -3.8255e+00, -8.6240e+00, -2.2277e+01,\n",
            "         2.1484e+01,  6.5559e+00, -1.3341e+00,  2.6575e+01, -1.3199e+01,\n",
            "        -3.2440e+01,  7.2878e+00,  1.2706e+01,  3.0800e+01,  1.0780e+01,\n",
            "         1.8065e+01, -2.3805e+01,  1.1484e+01, -2.1431e+01,  2.7394e+00,\n",
            "        -2.3909e+01,  1.3460e+01,  1.8579e-01, -4.8890e+00, -1.2284e+01,\n",
            "        -1.5825e+01, -1.8658e+01]) tensor(0)\n"
          ]
        },
        {
          "output_type": "stream",
          "name": "stderr",
          "text": [
            "/usr/local/lib/python3.7/dist-packages/ipykernel_launcher.py:12: UserWarning: Creating a tensor from a list of numpy.ndarrays is extremely slow. Please consider converting the list to a single numpy.ndarray with numpy.array() before converting to a tensor. (Triggered internally at  ../torch/csrc/utils/tensor_new.cpp:210.)\n",
            "  if sys.path[0] == '':\n"
          ]
        }
      ]
    },
    {
      "cell_type": "code",
      "source": [
        "X_test = np.array(X_test)"
      ],
      "metadata": {
        "id": "petlhBLgy2VC"
      },
      "execution_count": 16,
      "outputs": []
    },
    {
      "cell_type": "code",
      "source": [
        "from sklearn.metrics import mean_squared_error, r2_score\n",
        "import numpy as np\n",
        "\n",
        "distance_6 = []\n",
        "from sklearn.neighbors import KNeighborsRegressor\n",
        "for i in range(20):\n",
        "    knn_model = KNeighborsRegressor(n_neighbors=i+1, weights='uniform').fit(X_train, y_train)\n",
        "    predicted_values = knn_model.predict(X_test)\n",
        "    predict_df = pd.DataFrame({\"Dependent_Test\" : y_test, \"Dependent_Predicted\" : predicted_values})\n",
        "    mse_knn_distance = mean_squared_error(predict_df.Dependent_Predicted, predict_df.Dependent_Test)\n",
        "    print(\" k = \" + str(i+1) + \" Mean Squared Error = \", mean_squared_error(predict_df.Dependent_Predicted, predict_df.Dependent_Test))\n",
        "    distance_6.append(mean_squared_error(predict_df.Dependent_Predicted, predict_df.Dependent_Test))"
      ],
      "metadata": {
        "colab": {
          "base_uri": "https://localhost:8080/"
        },
        "id": "RpoibidxzHBy",
        "outputId": "c848042f-1f3b-4003-8113-588ca07ce2d8"
      },
      "execution_count": 17,
      "outputs": [
        {
          "output_type": "stream",
          "name": "stdout",
          "text": [
            " k = 1 Mean Squared Error =  0.2710144927536232\n",
            " k = 2 Mean Squared Error =  0.21159420289855072\n",
            " k = 3 Mean Squared Error =  0.1959742351046699\n",
            " k = 4 Mean Squared Error =  0.18197463768115943\n",
            " k = 5 Mean Squared Error =  0.18156521739130435\n",
            " k = 6 Mean Squared Error =  0.1816425120772947\n",
            " k = 7 Mean Squared Error =  0.18095238095238095\n",
            " k = 8 Mean Squared Error =  0.1782608695652174\n",
            " k = 9 Mean Squared Error =  0.17659688674181429\n",
            " k = 10 Mean Squared Error =  0.174768115942029\n",
            " k = 11 Mean Squared Error =  0.17699125643789673\n",
            " k = 12 Mean Squared Error =  0.1792572463768116\n",
            " k = 13 Mean Squared Error =  0.18074779178458109\n",
            " k = 14 Mean Squared Error =  0.1821724341910677\n",
            " k = 15 Mean Squared Error =  0.18359420289855075\n",
            " k = 16 Mean Squared Error =  0.18674705615942028\n",
            " k = 17 Mean Squared Error =  0.18822024973672333\n",
            " k = 18 Mean Squared Error =  0.19092860976918952\n",
            " k = 19 Mean Squared Error =  0.19240836645389217\n",
            " k = 20 Mean Squared Error =  0.19293840579710145\n"
          ]
        }
      ]
    },
    {
      "cell_type": "code",
      "source": [
        "from sklearn.metrics import mean_squared_error, r2_score\n",
        "import numpy as np\n",
        "\n",
        "distance_6 = []\n",
        "from sklearn.neighbors import KNeighborsRegressor\n",
        "# for i in range(20):\n",
        "knn_model = KNeighborsRegressor(n_neighbors=10, weights='uniform').fit(X_train, y_train)\n",
        "predicted_values = knn_model.predict(X_test)\n",
        "predict_df = pd.DataFrame({\"Dependent_Test\" : y_test, \"Dependent_Predicted\" : predicted_values})\n",
        "mse_knn_distance = mean_squared_error(predict_df.Dependent_Predicted, predict_df.Dependent_Test)\n",
        "    # print(\" k = \" + str(i+1) + \" Mean Squared Error = \", mean_squared_error(predict_df.Dependent_Predicted, predict_df.Dependent_Test))\n",
        "    # distance_6.append(mean_squared_error(predict_df.Dependent_Predicted, predict_df.Dependent_Test))"
      ],
      "metadata": {
        "id": "9je2A4ACz5dt"
      },
      "execution_count": 18,
      "outputs": []
    },
    {
      "cell_type": "code",
      "source": [
        "predicted_values = knn_model.predict(X_test)\n",
        "k = 0\n",
        "for i in range(len(predicted_values)):\n",
        "  if predicted_values[i]>=0.5:\n",
        "    predicted_values[i]=1\n",
        "  else:\n",
        "    predicted_values[i]=0\n",
        "for i in range(len(predicted_values)):\n",
        "  if y_test[i]==predicted_values[i]:\n",
        "    k = k + 1\n",
        "  # print(\"ground truth: \" + str(y_test[i]) + \"predict: \" + str(predicted_values[i]))\n",
        "\n",
        "\n",
        "print(str(k/len(predicted_values)*100) + \"%\")"
      ],
      "metadata": {
        "colab": {
          "base_uri": "https://localhost:8080/"
        },
        "id": "PFICDvPZzfT9",
        "outputId": "1eb3102d-1b14-48ce-faf4-9c22aba430db"
      },
      "execution_count": 19,
      "outputs": [
        {
          "output_type": "stream",
          "name": "stdout",
          "text": [
            "75.79710144927536%\n"
          ]
        }
      ]
    },
    {
      "cell_type": "code",
      "source": [
        "import numpy as np\n",
        "from sklearn.linear_model import SGDClassifier\n",
        "from sklearn.preprocessing import StandardScaler\n",
        "from sklearn.pipeline import make_pipeline\n",
        "k = 0\n",
        "clf = make_pipeline(StandardScaler(),\n",
        "                    SGDClassifier(max_iter=10000, tol=1e-3))\n",
        "clf.fit(X_train, y_train)\n",
        "predict = clf.predict(X_test)\n",
        "for i in range(len(predict)):\n",
        "  if predict[i]==y_test[i]:\n",
        "    k = k + 1\n",
        "print(str(k/len(X_test)*100) + \"%\")"
      ],
      "metadata": {
        "colab": {
          "base_uri": "https://localhost:8080/"
        },
        "id": "nx8U9MumDBK9",
        "outputId": "62be4989-8122-4b8e-9ad1-66fc2c436acd"
      },
      "execution_count": 20,
      "outputs": [
        {
          "output_type": "stream",
          "name": "stdout",
          "text": [
            "70.43478260869566%\n"
          ]
        }
      ]
    }
  ],
  "metadata": {
    "accelerator": "GPU",
    "colab": {
      "collapsed_sections": [],
      "name": "Label_before.ipynb",
      "provenance": []
    },
    "kernelspec": {
      "display_name": "Python 3",
      "name": "python3"
    },
    "language_info": {
      "name": "python"
    }
  },
  "nbformat": 4,
  "nbformat_minor": 0
}